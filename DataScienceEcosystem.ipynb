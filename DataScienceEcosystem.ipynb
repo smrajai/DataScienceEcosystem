{
  "metadata": {
    "kernelspec": {
      "name": "python",
      "display_name": "Python (Pyodide)",
      "language": "python"
    },
    "language_info": {
      "codemirror_mode": {
        "name": "python",
        "version": 3
      },
      "file_extension": ".py",
      "mimetype": "text/x-python",
      "name": "python",
      "nbconvert_exporter": "python",
      "pygments_lexer": "ipython3",
      "version": "3.8"
    }
  },
  "nbformat_minor": 5,
  "nbformat": 4,
  "cells": [
    {
      "id": "58f29c2b-66dd-41a4-9792-7500f8494315",
      "cell_type": "markdown",
      "source": "# Data Science Tools and Ecosystem",
      "metadata": {}
    },
    {
      "id": "49d97875-7f8e-4e4d-9789-e9b79cce4e98",
      "cell_type": "markdown",
      "source": "In this notebook, we explore the essential tools and components that make up the Data Science ecosystem.",
      "metadata": {}
    },
    {
      "id": "815cd982-2708-4d3d-8f58-a3366ddff20d",
      "cell_type": "markdown",
      "source": "**Objectives:**\n\n- List popular languages for Data Science\n- List commonly used libraries in Data Science\n- Identify open source tools for Data Science environments\n- Provide examples of arithmetic expressions in Python\n- Demonstrate converting minutes to hours",
      "metadata": {}
    },
    {
      "id": "30533c27-4829-421f-bd4e-052618bd7970",
      "cell_type": "markdown",
      "source": "Some of the popular languages that Data Scientists use are:\n1. Python\n2. R\n3. SQL\n4. Java\n5. Julia",
      "metadata": {}
    },
    {
      "id": "9b79918d-da0a-4690-9ce3-78752d5e733b",
      "cell_type": "markdown",
      "source": "Some of the commonly used libraries used by Data Scientists include:\n1. Pandas\n2. NumPy\n3. Matplotlib\n4. Scikit-learn\n5. TensorFlow",
      "metadata": {}
    },
    {
      "id": "56371849-63a7-43d6-8e78-dd6880cfd0ab",
      "cell_type": "markdown",
      "source": "| Data Science Tools |\n|--------------------|\n| Jupyter Notebook   |\n| RStudio            |\n| Spyder             |\n",
      "metadata": {}
    },
    {
      "id": "4d157558-7bd8-43e9-a344-a9359466d6ac",
      "cell_type": "markdown",
      "source": "### Below are a few examples of evaluating arithmetic expressions in Python",
      "metadata": {}
    },
    {
      "id": "c43083d9-6d65-401d-9123-2ba931945543",
      "cell_type": "code",
      "source": "# This is a simple arithmetic expression to multiply then add integers\n(3 * 4) + 5",
      "metadata": {
        "trusted": true
      },
      "outputs": [
        {
          "execution_count": 1,
          "output_type": "execute_result",
          "data": {
            "text/plain": "17"
          },
          "metadata": {}
        }
      ],
      "execution_count": 1
    },
    {
      "id": "ab5ba77f-c03f-42dd-af30-ce57da285239",
      "cell_type": "code",
      "source": "# This will convert 200 minutes to hours by dividing by 60\n200 / 60",
      "metadata": {
        "trusted": true
      },
      "outputs": [
        {
          "execution_count": 2,
          "output_type": "execute_result",
          "data": {
            "text/plain": "3.3333333333333335"
          },
          "metadata": {}
        }
      ],
      "execution_count": 2
    },
    {
      "id": "c0bc8476-c430-415e-a257-9f46e5ee2a04",
      "cell_type": "markdown",
      "source": "## Author\n\nSayed Muhammad Rajai",
      "metadata": {}
    },
    {
      "id": "8bbbff43-91af-4914-bab5-f8e4dad0cac2",
      "cell_type": "code",
      "source": "",
      "metadata": {
        "trusted": true
      },
      "outputs": [],
      "execution_count": null
    }
  ]
}